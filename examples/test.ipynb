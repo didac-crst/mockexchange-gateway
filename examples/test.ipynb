{
 "cells": [
  {
   "cell_type": "code",
   "execution_count": 1,
   "id": "e94bbd90",
   "metadata": {},
   "outputs": [
    {
     "name": "stdout",
     "output_type": "stream",
     "text": [
      "Markets: ['1000CAT/USDT', '1000CHEEMS/USDT', '1000SATS/USDT', '1INCH/USDT', '1MBABYDOGE/USDT', 'A/USDT', 'AAVE/USDT', 'ACA/USDT', 'ACE/USDT', 'ACH/USDT', 'ACM/USDT', 'ACT/USDT', 'ACX/USDT', 'ADA/USDT', 'ADX/USDT', 'AEUR/USDT', 'AEVO/USDT', 'AGLD/USDT', 'AI/USDT', 'AIXBT/USDT', 'ALCX/USDT', 'ALGO/USDT', 'ALICE/USDT', 'ALPHA/USDT', 'ALPINE/USDT', 'ALT/USDT', 'AMP/USDT', 'ANIME/USDT', 'ANKR/USDT', 'APE/USDT', 'API3/USDT', 'APT/USDT', 'AR/USDT', 'ARB/USDT', 'ARDR/USDT', 'ARK/USDT', 'ARKM/USDT', 'ARPA/USDT', 'ASR/USDT', 'ASTR/USDT', 'ATA/USDT', 'ATM/USDT', 'ATOM/USDT', 'AUCTION/USDT', 'AUDIO/USDT', 'AVA/USDT', 'AVAX/USDT', 'AWE/USDT', 'AXL/USDT', 'AXS/USDT', 'BABY/USDT', 'BAKE/USDT', 'BANANA/USDT', 'BANANAS31/USDT', 'BAND/USDT', 'BAR/USDT', 'BAT/USDT', 'BB/USDT', 'BCH/USDT', 'BEAMX/USDT', 'BEL/USDT', 'BERA/USDT', 'BICO/USDT', 'BIFI/USDT', 'BIGTIME/USDT', 'BIO/USDT', 'BLUR/USDT', 'BMT/USDT', 'BNB/USDT', 'BNSOL/USDT', 'BNT/USDT', 'BOME/USDT', 'BONK/USDT', 'BROCCOLI714/USDT', 'BSW/USDT', 'BTC/USDT', 'BTTC/USDT', 'C98/USDT', 'CAKE/USDT', 'CATI/USDT', 'CELO/USDT', 'CELR/USDT', 'CETUS/USDT', 'CFX/USDT', 'CGPT/USDT', 'CHESS/USDT', 'CHR/USDT', 'CHZ/USDT', 'CITY/USDT', 'CKB/USDT', 'COMP/USDT', 'COOKIE/USDT', 'COS/USDT', 'COTI/USDT', 'COW/USDT', 'CRV/USDT', 'CTK/USDT', 'CTSI/USDT', 'CVC/USDT', 'CVX/USDT', 'CYBER/USDT', 'D/USDT', 'DASH/USDT', 'DATA/USDT', 'DCR/USDT', 'DEGO/USDT', 'DENT/USDT', 'DEXE/USDT', 'DF/USDT', 'DGB/USDT', 'DIA/USDT', 'DODO/USDT', 'DOGE/USDT', 'DOGS/USDT', 'DOT/USDT', 'DUSK/USDT', 'DYDX/USDT', 'DYM/USDT', 'EDU/USDT', 'EGLD/USDT', 'EIGEN/USDT', 'ENA/USDT', 'ENJ/USDT', 'ENS/USDT', 'EPIC/USDT', 'ERA/USDT', 'ETC/USDT', 'ETH/USDT', 'ETHFI/USDT', 'EUR/USDT', 'EURI/USDT', 'FARM/USDT', 'FDUSD/USDT', 'FET/USDT', 'FIDA/USDT', 'FIL/USDT', 'FIO/USDT', 'FIS/USDT', 'FLM/USDT', 'FLOKI/USDT', 'FLOW/USDT', 'FLUX/USDT', 'FORM/USDT', 'FORTH/USDT', 'FTT/USDT', 'FUN/USDT', 'FXS/USDT', 'G/USDT', 'GALA/USDT', 'GAS/USDT', 'GHST/USDT', 'GLM/USDT', 'GLMR/USDT', 'GMT/USDT', 'GMX/USDT', 'GNO/USDT', 'GNS/USDT', 'GPS/USDT', 'GRT/USDT', 'GTC/USDT', 'GUN/USDT', 'HAEDAL/USDT', 'HBAR/USDT', 'HEI/USDT', 'HFT/USDT', 'HIFI/USDT', 'HIGH/USDT', 'HIVE/USDT', 'HMSTR/USDT', 'HOME/USDT', 'HOOK/USDT', 'HOT/USDT', 'HUMA/USDT', 'HYPER/USDT', 'ICP/USDT', 'ICX/USDT', 'ID/USDT', 'IDEX/USDT', 'ILV/USDT', 'IMX/USDT', 'INIT/USDT', 'INJ/USDT', 'IO/USDT', 'IOST/USDT', 'IOTA/USDT', 'IOTX/USDT', 'IQ/USDT', 'JASMY/USDT', 'JOE/USDT', 'JST/USDT', 'JTO/USDT', 'JUP/USDT', 'JUV/USDT', 'KAIA/USDT', 'KAITO/USDT', 'KAVA/USDT', 'KDA/USDT', 'KERNEL/USDT', 'KMD/USDT', 'KMNO/USDT', 'KNC/USDT', 'KSM/USDT', 'LA/USDT', 'LAYER/USDT', 'LAZIO/USDT', 'LDO/USDT', 'LEVER/USDT', 'LINK/USDT', 'LISTA/USDT', 'LOKA/USDT', 'LPT/USDT', 'LQTY/USDT', 'LRC/USDT', 'LSK/USDT', 'LTC/USDT', 'LTO/USDT', 'LUMIA/USDT', 'LUNA/USDT', 'LUNC/USDT', 'MAGIC/USDT', 'MANA/USDT', 'MANTA/USDT', 'MASK/USDT', 'MAV/USDT', 'MBL/USDT', 'MBOX/USDT', 'MDT/USDT', 'ME/USDT', 'MEME/USDT', 'METIS/USDT', 'MINA/USDT', 'MKR/USDT', 'MLN/USDT', 'MOVE/USDT', 'MOVR/USDT', 'MTL/USDT', 'MUBARAK/USDT', 'NEAR/USDT', 'NEIRO/USDT', 'NEO/USDT', 'NEWT/USDT', 'NEXO/USDT', 'NFP/USDT', 'NIL/USDT', 'NKN/USDT', 'NMR/USDT', 'NOT/USDT', 'NTRN/USDT', 'NXPC/USDT', 'OG/USDT', 'OGN/USDT', 'OM/USDT', 'OMNI/USDT', 'ONDO/USDT', 'ONE/USDT', 'ONG/USDT', 'ONT/USDT', 'OP/USDT', 'ORCA/USDT', 'ORDI/USDT', 'OSMO/USDT', 'OXT/USDT', 'PARTI/USDT', 'PAXG/USDT', 'PENDLE/USDT', 'PENGU/USDT', 'PEOPLE/USDT', 'PEPE/USDT', 'PERP/USDT', 'PHA/USDT', 'PHB/USDT', 'PIVX/USDT', 'PIXEL/USDT', 'PNUT/USDT', 'POL/USDT', 'POLYX/USDT', 'POND/USDT', 'PORTAL/USDT', 'PORTO/USDT', 'POWR/USDT', 'PROM/USDT', 'PSG/USDT', 'PUNDIX/USDT', 'PYR/USDT', 'PYTH/USDT', 'QI/USDT', 'QKC/USDT', 'QNT/USDT', 'QTUM/USDT', 'QUICK/USDT', 'RAD/USDT', 'RARE/USDT', 'RAY/USDT', 'RDNT/USDT', 'RED/USDT', 'REI/USDT', 'RENDER/USDT', 'REQ/USDT', 'RESOLV/USDT', 'REZ/USDT', 'RIF/USDT', 'RLC/USDT', 'RONIN/USDT', 'ROSE/USDT', 'RPL/USDT', 'RSR/USDT', 'RUNE/USDT', 'RVN/USDT', 'S/USDT', 'SAGA/USDT', 'SAHARA/USDT', 'SAND/USDT', 'SANTOS/USDT', 'SC/USDT', 'SCR/USDT', 'SCRT/USDT', 'SEI/USDT', 'SFP/USDT', 'SHELL/USDT', 'SHIB/USDT', 'SIGN/USDT', 'SKL/USDT', 'SLF/USDT', 'SLP/USDT', 'SNX/USDT', 'SOL/USDT', 'SOLV/USDT', 'SOPH/USDT', 'SPELL/USDT', 'SPK/USDT', 'SSV/USDT', 'STEEM/USDT', 'STG/USDT', 'STO/USDT', 'STORJ/USDT', 'STRAX/USDT', 'STRK/USDT', 'STX/USDT', 'SUI/USDT', 'SUN/USDT', 'SUPER/USDT', 'SUSHI/USDT', 'SXP/USDT', 'SXT/USDT', 'SYN/USDT', 'SYRUP/USDT', 'SYS/USDT', 'T/USDT', 'TAO/USDT', 'TFUEL/USDT', 'THE/USDT', 'THETA/USDT', 'TIA/USDT', 'TKO/USDT', 'TLM/USDT', 'TNSR/USDT', 'TON/USDT', 'TRB/USDT', 'TRU/USDT', 'TRUMP/USDT', 'TRX/USDT', 'TST/USDT', 'TURBO/USDT', 'TUSD/USDT', 'TUT/USDT', 'TWT/USDT', 'UMA/USDT', 'UNI/USDT', 'USD1/USDT', 'USDC/USDT', 'USDP/USDT', 'USTC/USDT', 'USUAL/USDT', 'UTK/USDT', 'VANA/USDT', 'VANRY/USDT', 'VELODROME/USDT', 'VET/USDT', 'VIC/USDT', 'VIRTUAL/USDT', 'VOXEL/USDT', 'VTHO/USDT', 'W/USDT', 'WAN/USDT', 'WAXP/USDT', 'WBETH/USDT', 'WBTC/USDT', 'WCT/USDT', 'WIF/USDT', 'WIN/USDT', 'WLD/USDT', 'WOO/USDT', 'XAI/USDT', 'XEC/USDT', 'XLM/USDT', 'XNO/USDT', 'XRP/USDT', 'XTZ/USDT', 'XUSD/USDT', 'XVG/USDT', 'XVS/USDT', 'YFI/USDT', 'YGG/USDT', 'ZEC/USDT', 'ZEN/USDT', 'ZIL/USDT', 'ZK/USDT', 'ZRO/USDT', 'ZRX/USDT']\n",
      "Balance keys: ['info', 'timestamp']\n"
     ]
    }
   ],
   "source": [
    "from mockexchange_gateway import MockExchangeGateway\n",
    "\n",
    "# Instantiate the gateway.\n",
    "# We explicitly pass both base_url and api_key to avoid relying on env vars\n",
    "# (examples should be explicit so users see required configuration).\n",
    "gx = MockExchangeGateway(base_url=\"https://api-mockexchange.didac-crst.com/\", api_key=\"your-super-secret-key\")\n",
    "\n",
    "# Load market symbols (cached internally after the first call). This mirrors\n",
    "# the CCXT pattern while keeping network chatter minimal afterwards.\n",
    "markets = gx.load_markets()\n",
    "print(\"Markets:\", markets)\n",
    "\n",
    "# Fetch current balance snapshot. We only print the keys here to keep\n",
    "# output concise; users can explore the full dict in an interactive shell.\n",
    "balance = gx.fetch_balance()\n",
    "print(\"Balance keys:\", list(balance.keys()))"
   ]
  },
  {
   "cell_type": "code",
   "execution_count": 2,
   "id": "7c009f9a",
   "metadata": {},
   "outputs": [
    {
     "data": {
      "text/plain": [
       "[{'symbol': 'BIFI/USDT',\n",
       "  'base': 'BIFI',\n",
       "  'quote': 'USDT',\n",
       "  'active': True,\n",
       "  'precision': {},\n",
       "  'limits': {},\n",
       "  'info': {}},\n",
       " {'symbol': 'BSW/USDT',\n",
       "  'base': 'BSW',\n",
       "  'quote': 'USDT',\n",
       "  'active': True,\n",
       "  'precision': {},\n",
       "  'limits': {},\n",
       "  'info': {}},\n",
       " {'symbol': 'FLUX/USDT',\n",
       "  'base': 'FLUX',\n",
       "  'quote': 'USDT',\n",
       "  'active': True,\n",
       "  'precision': {},\n",
       "  'limits': {},\n",
       "  'info': {}}]"
      ]
     },
     "execution_count": 2,
     "metadata": {},
     "output_type": "execute_result"
    }
   ],
   "source": [
    "gx.fetch_markets()[:3]"
   ]
  },
  {
   "cell_type": "code",
   "execution_count": 3,
   "id": "a9e12395",
   "metadata": {},
   "outputs": [
    {
     "data": {
      "text/plain": [
       "{'symbol': 'ETH/USDT',\n",
       " 'timestamp': 1752873080006,\n",
       " 'bid': 3542.1,\n",
       " 'ask': 3542.11,\n",
       " 'last': 3542.1,\n",
       " 'bid_volume': 9.5313,\n",
       " 'ask_volume': 35.4811}"
      ]
     },
     "execution_count": 3,
     "metadata": {},
     "output_type": "execute_result"
    }
   ],
   "source": [
    "gx.fetch_ticker(\"ETH/USDT\")  # Fetch ticker for BTC/USDT"
   ]
  },
  {
   "cell_type": "code",
   "execution_count": 4,
   "id": "5440cc83",
   "metadata": {},
   "outputs": [
    {
     "data": {
      "text/plain": [
       "{'ETH/USDT': {'symbol': 'ETH/USDT',\n",
       "  'timestamp': 1752873080006,\n",
       "  'bid': 3542.1,\n",
       "  'ask': 3542.11,\n",
       "  'last': 3542.1,\n",
       "  'bid_volume': 9.5313,\n",
       "  'ask_volume': 35.4811},\n",
       " 'BTC/USDT': {'symbol': 'BTC/USDT',\n",
       "  'timestamp': 1752873080001,\n",
       "  'bid': 117695.22,\n",
       "  'ask': 117695.23,\n",
       "  'last': 117695.23,\n",
       "  'bid_volume': 3.9632,\n",
       "  'ask_volume': 2.12771},\n",
       " 'XRP/USDT': {'symbol': 'XRP/USDT',\n",
       "  'timestamp': 1752873079311,\n",
       "  'bid': 3.4196,\n",
       "  'ask': 3.4197,\n",
       "  'last': 3.4196,\n",
       "  'bid_volume': 292.1,\n",
       "  'ask_volume': 10450.2},\n",
       " 'LTC/USDT': {'symbol': 'LTC/USDT',\n",
       "  'timestamp': 1752873079190,\n",
       "  'bid': 102.08,\n",
       "  'ask': 102.09,\n",
       "  'last': 102.09,\n",
       "  'bid_volume': 109.491,\n",
       "  'ask_volume': 14.629}}"
      ]
     },
     "execution_count": 4,
     "metadata": {},
     "output_type": "execute_result"
    }
   ],
   "source": [
    "symbols = [\"BTC/USDT\", \"ETH/USDT\", \"LTC/USDT\", \"XRP/USDT\"]\n",
    "gx.fetch_tickers(symbols=symbols)"
   ]
  },
  {
   "cell_type": "code",
   "execution_count": 5,
   "id": "9055d85c",
   "metadata": {},
   "outputs": [
    {
     "data": {
      "text/plain": [
       "{'info': {'BTC': {'asset': 'BTC', 'free': 0.25, 'used': 0.0, 'total': 0.25},\n",
       "  'DOT': {'asset': 'DOT',\n",
       "   'free': 3596.5519453598135,\n",
       "   'used': 0.0,\n",
       "   'total': 3596.5519453598135},\n",
       "  'ETH': {'asset': 'ETH',\n",
       "   'free': 4.636284991727441,\n",
       "   'used': 0.0,\n",
       "   'total': 4.636284991727441},\n",
       "  'USDT': {'asset': 'USDT',\n",
       "   'free': 25545.375676456883,\n",
       "   'used': 2852.1375000000003,\n",
       "   'total': 28397.513176456883},\n",
       "  'XRP': {'asset': 'XRP', 'free': 3000.0, 'used': 0.0, 'total': 3000.0}},\n",
       " 'timestamp': 1752873085477}"
      ]
     },
     "execution_count": 5,
     "metadata": {},
     "output_type": "execute_result"
    }
   ],
   "source": [
    "gx.fetch_balance()"
   ]
  },
  {
   "cell_type": "code",
   "execution_count": 6,
   "id": "c4b6bfcd",
   "metadata": {},
   "outputs": [
    {
     "data": {
      "text/plain": [
       "{'id': '1752873086=QUQOp2',\n",
       " 'symbol': 'BTC/USDT',\n",
       " 'side': 'buy',\n",
       " 'type': 'limit',\n",
       " 'status': 'open',\n",
       " 'amount': 0.015,\n",
       " 'price': None,\n",
       " 'filled': None,\n",
       " 'cost': None,\n",
       " 'remaining': None,\n",
       " 'created_at': 1752873086362,\n",
       " 'updated_at': None}"
      ]
     },
     "execution_count": 6,
     "metadata": {},
     "output_type": "execute_result"
    }
   ],
   "source": [
    "gx.create_order(\n",
    "    symbol=\"BTC/USDT\",\n",
    "    type=\"limit\",\n",
    "    side=\"buy\",\n",
    "    amount=0.015,\n",
    "    price=30000.0\n",
    ")"
   ]
  },
  {
   "cell_type": "code",
   "execution_count": 7,
   "id": "624aeed5",
   "metadata": {},
   "outputs": [
    {
     "data": {
      "text/plain": [
       "[{'id': '1752873086=QUQOp2',\n",
       "  'symbol': 'BTC/USDT',\n",
       "  'side': 'buy',\n",
       "  'type': 'limit',\n",
       "  'status': 'open',\n",
       "  'amount': 0.015,\n",
       "  'price': None,\n",
       "  'filled': None,\n",
       "  'cost': None,\n",
       "  'remaining': None,\n",
       "  'created_at': 1752873086362,\n",
       "  'updated_at': None},\n",
       " {'id': '1752871734=kx1y_E',\n",
       "  'symbol': 'BTC/USDT',\n",
       "  'side': 'buy',\n",
       "  'type': 'limit',\n",
       "  'status': 'open',\n",
       "  'amount': 0.015,\n",
       "  'price': None,\n",
       "  'filled': None,\n",
       "  'cost': None,\n",
       "  'remaining': None,\n",
       "  'created_at': 1752871734641,\n",
       "  'updated_at': None},\n",
       " {'id': '1752871642=e3Djlb',\n",
       "  'symbol': 'BTC/USDT',\n",
       "  'side': 'buy',\n",
       "  'type': 'limit',\n",
       "  'status': 'open',\n",
       "  'amount': 0.015,\n",
       "  'price': None,\n",
       "  'filled': None,\n",
       "  'cost': None,\n",
       "  'remaining': None,\n",
       "  'created_at': 1752871642429,\n",
       "  'updated_at': None},\n",
       " {'id': '1752871577=H3hSi8',\n",
       "  'symbol': 'BTC/USDT',\n",
       "  'side': 'buy',\n",
       "  'type': 'limit',\n",
       "  'status': 'open',\n",
       "  'amount': 0.015,\n",
       "  'price': None,\n",
       "  'filled': None,\n",
       "  'cost': None,\n",
       "  'remaining': None,\n",
       "  'created_at': 1752871577177,\n",
       "  'updated_at': None},\n",
       " {'id': '1752871282=0kCBpA',\n",
       "  'symbol': 'BTC/USDT',\n",
       "  'side': 'buy',\n",
       "  'type': 'limit',\n",
       "  'status': 'open',\n",
       "  'amount': 0.01,\n",
       "  'price': None,\n",
       "  'filled': None,\n",
       "  'cost': None,\n",
       "  'remaining': None,\n",
       "  'created_at': 1752871282525,\n",
       "  'updated_at': None},\n",
       " {'id': '1752871216=thIHeW',\n",
       "  'symbol': 'BTC/USDT',\n",
       "  'side': 'buy',\n",
       "  'type': 'limit',\n",
       "  'status': 'open',\n",
       "  'amount': 0.01,\n",
       "  'price': None,\n",
       "  'filled': None,\n",
       "  'cost': None,\n",
       "  'remaining': None,\n",
       "  'created_at': 1752871216923,\n",
       "  'updated_at': None},\n",
       " {'id': '1752871179=-rIj_4',\n",
       "  'symbol': 'BTC/USDT',\n",
       "  'side': 'buy',\n",
       "  'type': 'limit',\n",
       "  'status': 'open',\n",
       "  'amount': 0.01,\n",
       "  'price': None,\n",
       "  'filled': None,\n",
       "  'cost': None,\n",
       "  'remaining': None,\n",
       "  'created_at': 1752871179111,\n",
       "  'updated_at': None},\n",
       " {'id': '1752871093=k5LDaQ',\n",
       "  'symbol': 'BTC/USDT',\n",
       "  'side': 'buy',\n",
       "  'type': 'limit',\n",
       "  'status': 'open',\n",
       "  'amount': 0.01,\n",
       "  'price': None,\n",
       "  'filled': None,\n",
       "  'cost': None,\n",
       "  'remaining': None,\n",
       "  'created_at': 1752871093651,\n",
       "  'updated_at': None},\n",
       " {'id': '1752870873=fba5jd',\n",
       "  'symbol': 'BTC/USDT',\n",
       "  'side': 'buy',\n",
       "  'type': 'limit',\n",
       "  'status': 'open',\n",
       "  'amount': 0.01,\n",
       "  'price': None,\n",
       "  'filled': None,\n",
       "  'cost': None,\n",
       "  'remaining': None,\n",
       "  'created_at': 1752870873117,\n",
       "  'updated_at': None}]"
      ]
     },
     "execution_count": 7,
     "metadata": {},
     "output_type": "execute_result"
    }
   ],
   "source": [
    "o_o = gx.fetch_open_orders(symbol=None)\n",
    "o_o"
   ]
  },
  {
   "cell_type": "code",
   "execution_count": 8,
   "id": "0f6f341a",
   "metadata": {},
   "outputs": [
    {
     "data": {
      "text/plain": [
       "'1752873086=QUQOp2'"
      ]
     },
     "execution_count": 8,
     "metadata": {},
     "output_type": "execute_result"
    }
   ],
   "source": [
    "o_o[0]['id']  # Access the first order's ID"
   ]
  },
  {
   "cell_type": "code",
   "execution_count": 9,
   "id": "e2a3b941",
   "metadata": {},
   "outputs": [
    {
     "data": {
      "text/plain": [
       "[{'id': '1752873086=QUQOp2',\n",
       "  'symbol': 'BTC/USDT',\n",
       "  'side': 'buy',\n",
       "  'type': 'limit',\n",
       "  'status': 'open',\n",
       "  'amount': 0.015,\n",
       "  'price': None,\n",
       "  'filled': None,\n",
       "  'cost': None,\n",
       "  'remaining': None,\n",
       "  'created_at': 1752873086362,\n",
       "  'updated_at': None},\n",
       " {'id': '1752871734=kx1y_E',\n",
       "  'symbol': 'BTC/USDT',\n",
       "  'side': 'buy',\n",
       "  'type': 'limit',\n",
       "  'status': 'open',\n",
       "  'amount': 0.015,\n",
       "  'price': None,\n",
       "  'filled': None,\n",
       "  'cost': None,\n",
       "  'remaining': None,\n",
       "  'created_at': 1752871734641,\n",
       "  'updated_at': None},\n",
       " {'id': '1752871642=e3Djlb',\n",
       "  'symbol': 'BTC/USDT',\n",
       "  'side': 'buy',\n",
       "  'type': 'limit',\n",
       "  'status': 'open',\n",
       "  'amount': 0.015,\n",
       "  'price': None,\n",
       "  'filled': None,\n",
       "  'cost': None,\n",
       "  'remaining': None,\n",
       "  'created_at': 1752871642429,\n",
       "  'updated_at': None},\n",
       " {'id': '1752871577=H3hSi8',\n",
       "  'symbol': 'BTC/USDT',\n",
       "  'side': 'buy',\n",
       "  'type': 'limit',\n",
       "  'status': 'open',\n",
       "  'amount': 0.015,\n",
       "  'price': None,\n",
       "  'filled': None,\n",
       "  'cost': None,\n",
       "  'remaining': None,\n",
       "  'created_at': 1752871577177,\n",
       "  'updated_at': None},\n",
       " {'id': '1752871282=0kCBpA',\n",
       "  'symbol': 'BTC/USDT',\n",
       "  'side': 'buy',\n",
       "  'type': 'limit',\n",
       "  'status': 'open',\n",
       "  'amount': 0.01,\n",
       "  'price': None,\n",
       "  'filled': None,\n",
       "  'cost': None,\n",
       "  'remaining': None,\n",
       "  'created_at': 1752871282525,\n",
       "  'updated_at': None},\n",
       " {'id': '1752871216=thIHeW',\n",
       "  'symbol': 'BTC/USDT',\n",
       "  'side': 'buy',\n",
       "  'type': 'limit',\n",
       "  'status': 'open',\n",
       "  'amount': 0.01,\n",
       "  'price': None,\n",
       "  'filled': None,\n",
       "  'cost': None,\n",
       "  'remaining': None,\n",
       "  'created_at': 1752871216923,\n",
       "  'updated_at': None},\n",
       " {'id': '1752871179=-rIj_4',\n",
       "  'symbol': 'BTC/USDT',\n",
       "  'side': 'buy',\n",
       "  'type': 'limit',\n",
       "  'status': 'open',\n",
       "  'amount': 0.01,\n",
       "  'price': None,\n",
       "  'filled': None,\n",
       "  'cost': None,\n",
       "  'remaining': None,\n",
       "  'created_at': 1752871179111,\n",
       "  'updated_at': None},\n",
       " {'id': '1752871093=k5LDaQ',\n",
       "  'symbol': 'BTC/USDT',\n",
       "  'side': 'buy',\n",
       "  'type': 'limit',\n",
       "  'status': 'open',\n",
       "  'amount': 0.01,\n",
       "  'price': None,\n",
       "  'filled': None,\n",
       "  'cost': None,\n",
       "  'remaining': None,\n",
       "  'created_at': 1752871093651,\n",
       "  'updated_at': None},\n",
       " {'id': '1752870873=fba5jd',\n",
       "  'symbol': 'BTC/USDT',\n",
       "  'side': 'buy',\n",
       "  'type': 'limit',\n",
       "  'status': 'open',\n",
       "  'amount': 0.01,\n",
       "  'price': None,\n",
       "  'filled': None,\n",
       "  'cost': None,\n",
       "  'remaining': None,\n",
       "  'created_at': 1752870873117,\n",
       "  'updated_at': None}]"
      ]
     },
     "execution_count": 9,
     "metadata": {},
     "output_type": "execute_result"
    }
   ],
   "source": [
    "gx.fetch_orders(\n",
    "    status=\"open\")"
   ]
  },
  {
   "cell_type": "code",
   "execution_count": 10,
   "id": "427fb921",
   "metadata": {},
   "outputs": [
    {
     "data": {
      "text/plain": [
       "{'id': '1752873086=QUQOp2',\n",
       " 'symbol': 'BTC/USDT',\n",
       " 'side': 'buy',\n",
       " 'type': 'limit',\n",
       " 'status': 'canceled',\n",
       " 'amount': 0.015,\n",
       " 'price': None,\n",
       " 'filled': None,\n",
       " 'cost': None,\n",
       " 'remaining': None,\n",
       " 'created_at': 1752873086362,\n",
       " 'updated_at': 1752873097300}"
      ]
     },
     "execution_count": 10,
     "metadata": {},
     "output_type": "execute_result"
    }
   ],
   "source": [
    "gx.cancel_order(\n",
    "    order_id=o_o[0]['id']\n",
    ")"
   ]
  },
  {
   "cell_type": "code",
   "execution_count": 11,
   "id": "dced65af",
   "metadata": {},
   "outputs": [
    {
     "data": {
      "text/plain": [
       "{'ok': False, 'reason': 'need 119552.45 USDT, have 25545.38'}"
      ]
     },
     "execution_count": 11,
     "metadata": {},
     "output_type": "execute_result"
    }
   ],
   "source": [
    "gx.can_execute_order(\n",
    "    symbol=\"BTC/USDT\",\n",
    "    type=\"limit\",\n",
    "    side=\"buy\",\n",
    "    amount=1.015,\n",
    "    price=300000.0\n",
    ")"
   ]
  },
  {
   "cell_type": "code",
   "execution_count": null,
   "id": "497f6811",
   "metadata": {},
   "outputs": [],
   "source": []
  }
 ],
 "metadata": {
  "kernelspec": {
   "display_name": "mockG",
   "language": "python",
   "name": "python3"
  },
  "language_info": {
   "codemirror_mode": {
    "name": "ipython",
    "version": 3
   },
   "file_extension": ".py",
   "mimetype": "text/x-python",
   "name": "python",
   "nbconvert_exporter": "python",
   "pygments_lexer": "ipython3",
   "version": "3.12.11"
  }
 },
 "nbformat": 4,
 "nbformat_minor": 5
}
